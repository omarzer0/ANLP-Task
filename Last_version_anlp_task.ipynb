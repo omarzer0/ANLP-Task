{
 "cells": [
  {
   "cell_type": "markdown",
   "id": "112db11b",
   "metadata": {},
   "source": [
    "# Configs"
   ]
  },
  {
   "cell_type": "code",
   "execution_count": 1,
   "id": "6fc25a37",
   "metadata": {},
   "outputs": [],
   "source": [
    "# -*- coding: utf-8 -*-\n",
    "# encoding declaration in python\n",
    "# decode(\"unicode-escape\") -->\n",
    "# importing unicode-literals must be the first thing to import\n",
    "# from __future__ import unicode_literals\n",
    "\n",
    "import pandas as pd\n",
    "import nltk \n",
    "import unicodedata as ud\n",
    "import string\n",
    "from tkinter import *\n",
    "from tashaphyne.stemming import ArabicLightStemmer\n",
    "from tashaphyne import arabicstopwords\n",
    "from sklearn.utils import shuffle\n",
    "\n",
    "punc=list(string.punctuation)\n"
   ]
  },
  {
   "cell_type": "markdown",
   "id": "09b0a2b6",
   "metadata": {},
   "source": [
    "# Read dataset"
   ]
  },
  {
   "cell_type": "code",
   "execution_count": 2,
   "id": "68cb2924",
   "metadata": {},
   "outputs": [
    {
     "data": {
      "text/html": [
       "<div>\n",
       "<style scoped>\n",
       "    .dataframe tbody tr th:only-of-type {\n",
       "        vertical-align: middle;\n",
       "    }\n",
       "\n",
       "    .dataframe tbody tr th {\n",
       "        vertical-align: top;\n",
       "    }\n",
       "\n",
       "    .dataframe thead th {\n",
       "        text-align: right;\n",
       "    }\n",
       "</style>\n",
       "<table border=\"1\" class=\"dataframe\">\n",
       "  <thead>\n",
       "    <tr style=\"text-align: right;\">\n",
       "      <th></th>\n",
       "      <th>news</th>\n",
       "      <th>label</th>\n",
       "    </tr>\n",
       "  </thead>\n",
       "  <tbody>\n",
       "    <tr>\n",
       "      <th>4995</th>\n",
       "      <td>السعادة شعور جميل يجدد نشاط الجسم ويجعله قادرا...</td>\n",
       "      <td>real</td>\n",
       "    </tr>\n",
       "    <tr>\n",
       "      <th>4996</th>\n",
       "      <td>تعرض نجم المنتخب البرازيلي  نيمار دا سيلفا  لإ...</td>\n",
       "      <td>real</td>\n",
       "    </tr>\n",
       "    <tr>\n",
       "      <th>4997</th>\n",
       "      <td>حرب كلامية شرسة بين وكيلي اعمال رونالدو و نيما...</td>\n",
       "      <td>real</td>\n",
       "    </tr>\n",
       "    <tr>\n",
       "      <th>4998</th>\n",
       "      <td>يشرع للعاطس أن يحمد الله تعالى   فيقول    الحم...</td>\n",
       "      <td>real</td>\n",
       "    </tr>\n",
       "    <tr>\n",
       "      <th>4999</th>\n",
       "      <td>ن م ر ود بن كنعان  وعرف عند المسلمين بن م ر ود...</td>\n",
       "      <td>real</td>\n",
       "    </tr>\n",
       "  </tbody>\n",
       "</table>\n",
       "</div>"
      ],
      "text/plain": [
       "                                                   news label\n",
       "4995  السعادة شعور جميل يجدد نشاط الجسم ويجعله قادرا...  real\n",
       "4996  تعرض نجم المنتخب البرازيلي  نيمار دا سيلفا  لإ...  real\n",
       "4997  حرب كلامية شرسة بين وكيلي اعمال رونالدو و نيما...  real\n",
       "4998  يشرع للعاطس أن يحمد الله تعالى   فيقول    الحم...  real\n",
       "4999  ن م ر ود بن كنعان  وعرف عند المسلمين بن م ر ود...  real"
      ]
     },
     "execution_count": 2,
     "metadata": {},
     "output_type": "execute_result"
    }
   ],
   "source": [
    "fakeDS = pd.read_csv('fake-news-mod.csv', names=['news','label'],header=None, skiprows=1,encoding='utf-8')[:5000]\n",
    "realDS = pd.read_csv('real-news.csv', names=['news','label'],header=None, skiprows=1,encoding='utf-8')[:5000]\n",
    "\n",
    "\n",
    "allDS = pd.concat([fakeDS,realDS])\n",
    "allDS.tail()"
   ]
  },
  {
   "cell_type": "code",
   "execution_count": 3,
   "id": "24708980",
   "metadata": {},
   "outputs": [],
   "source": [
    "# allDS=shuffle(allDS)\n",
    "# allDS.head()"
   ]
  },
  {
   "cell_type": "code",
   "execution_count": 4,
   "id": "289c7375",
   "metadata": {
    "scrolled": true
   },
   "outputs": [
    {
     "data": {
      "text/html": [
       "<div>\n",
       "<style scoped>\n",
       "    .dataframe tbody tr th:only-of-type {\n",
       "        vertical-align: middle;\n",
       "    }\n",
       "\n",
       "    .dataframe tbody tr th {\n",
       "        vertical-align: top;\n",
       "    }\n",
       "\n",
       "    .dataframe thead th {\n",
       "        text-align: right;\n",
       "    }\n",
       "</style>\n",
       "<table border=\"1\" class=\"dataframe\">\n",
       "  <thead>\n",
       "    <tr style=\"text-align: right;\">\n",
       "      <th></th>\n",
       "      <th>news</th>\n",
       "      <th>label</th>\n",
       "    </tr>\n",
       "  </thead>\n",
       "  <tbody>\n",
       "    <tr>\n",
       "      <th>9995</th>\n",
       "      <td>السعادة شعور جميل يجدد نشاط الجسم ويجعله قادرا...</td>\n",
       "      <td>real</td>\n",
       "    </tr>\n",
       "    <tr>\n",
       "      <th>9996</th>\n",
       "      <td>تعرض نجم المنتخب البرازيلي  نيمار دا سيلفا  لإ...</td>\n",
       "      <td>real</td>\n",
       "    </tr>\n",
       "    <tr>\n",
       "      <th>9997</th>\n",
       "      <td>حرب كلامية شرسة بين وكيلي اعمال رونالدو و نيما...</td>\n",
       "      <td>real</td>\n",
       "    </tr>\n",
       "    <tr>\n",
       "      <th>9998</th>\n",
       "      <td>يشرع للعاطس أن يحمد الله تعالى   فيقول    الحم...</td>\n",
       "      <td>real</td>\n",
       "    </tr>\n",
       "    <tr>\n",
       "      <th>9999</th>\n",
       "      <td>ن م ر ود بن كنعان  وعرف عند المسلمين بن م ر ود...</td>\n",
       "      <td>real</td>\n",
       "    </tr>\n",
       "  </tbody>\n",
       "</table>\n",
       "</div>"
      ],
      "text/plain": [
       "                                                   news label\n",
       "9995  السعادة شعور جميل يجدد نشاط الجسم ويجعله قادرا...  real\n",
       "9996  تعرض نجم المنتخب البرازيلي  نيمار دا سيلفا  لإ...  real\n",
       "9997  حرب كلامية شرسة بين وكيلي اعمال رونالدو و نيما...  real\n",
       "9998  يشرع للعاطس أن يحمد الله تعالى   فيقول    الحم...  real\n",
       "9999  ن م ر ود بن كنعان  وعرف عند المسلمين بن م ر ود...  real"
      ]
     },
     "execution_count": 4,
     "metadata": {},
     "output_type": "execute_result"
    }
   ],
   "source": [
    "allDS=allDS.reset_index(drop=True)\n",
    "allDS.tail()"
   ]
  },
  {
   "cell_type": "markdown",
   "id": "89fccf45",
   "metadata": {},
   "source": [
    "# Preprossessing"
   ]
  },
  {
   "cell_type": "code",
   "execution_count": 5,
   "id": "5a7449a2",
   "metadata": {},
   "outputs": [
    {
     "data": {
      "text/html": [
       "<div>\n",
       "<style scoped>\n",
       "    .dataframe tbody tr th:only-of-type {\n",
       "        vertical-align: middle;\n",
       "    }\n",
       "\n",
       "    .dataframe tbody tr th {\n",
       "        vertical-align: top;\n",
       "    }\n",
       "\n",
       "    .dataframe thead th {\n",
       "        text-align: right;\n",
       "    }\n",
       "</style>\n",
       "<table border=\"1\" class=\"dataframe\">\n",
       "  <thead>\n",
       "    <tr style=\"text-align: right;\">\n",
       "      <th></th>\n",
       "      <th>news</th>\n",
       "      <th>label</th>\n",
       "    </tr>\n",
       "  </thead>\n",
       "  <tbody>\n",
       "    <tr>\n",
       "      <th>0</th>\n",
       "      <td>تحليل  السيسي الرقم الصعب فى مؤتمر العشرين  ال...</td>\n",
       "      <td>0</td>\n",
       "    </tr>\n",
       "    <tr>\n",
       "      <th>1</th>\n",
       "      <td>طالب توجيهي يكتشف حبه لمتابعة النشرة الاقتصادي...</td>\n",
       "      <td>0</td>\n",
       "    </tr>\n",
       "    <tr>\n",
       "      <th>2</th>\n",
       "      <td>عانس تجد عريسا  رغم بلوغها سن الرابعة والعشرين...</td>\n",
       "      <td>0</td>\n",
       "    </tr>\n",
       "    <tr>\n",
       "      <th>3</th>\n",
       "      <td>التنمية  لم نضبط متسولين بأول أيام رمضان باستث...</td>\n",
       "      <td>0</td>\n",
       "    </tr>\n",
       "    <tr>\n",
       "      <th>4</th>\n",
       "      <td>شاب ينزعج من خبر تفجير رغم وقوعه كالمعتاد في ب...</td>\n",
       "      <td>0</td>\n",
       "    </tr>\n",
       "  </tbody>\n",
       "</table>\n",
       "</div>"
      ],
      "text/plain": [
       "                                                news  label\n",
       "0  تحليل  السيسي الرقم الصعب فى مؤتمر العشرين  ال...      0\n",
       "1  طالب توجيهي يكتشف حبه لمتابعة النشرة الاقتصادي...      0\n",
       "2  عانس تجد عريسا  رغم بلوغها سن الرابعة والعشرين...      0\n",
       "3  التنمية  لم نضبط متسولين بأول أيام رمضان باستث...      0\n",
       "4  شاب ينزعج من خبر تفجير رغم وقوعه كالمعتاد في ب...      0"
      ]
     },
     "execution_count": 5,
     "metadata": {},
     "output_type": "execute_result"
    }
   ],
   "source": [
    "allDS['label'] = allDS.label.map({'fake':0, 'real':1})\n",
    "allDS.head()"
   ]
  },
  {
   "cell_type": "code",
   "execution_count": 6,
   "id": "17651f88",
   "metadata": {},
   "outputs": [],
   "source": [
    "# def getAllAsParagraph():\n",
    "#     return ''.join([str(e) for e in allDS.news])"
   ]
  },
  {
   "cell_type": "code",
   "execution_count": 7,
   "id": "cb8f96c6",
   "metadata": {},
   "outputs": [],
   "source": [
    "# def segmentation(document):\n",
    "#     sentences =document.split('.')\n",
    "#     return \" \".join(sentences)\n"
   ]
  },
  {
   "cell_type": "code",
   "execution_count": 8,
   "id": "5c856798",
   "metadata": {},
   "outputs": [
    {
     "data": {
      "text/html": [
       "<div>\n",
       "<style scoped>\n",
       "    .dataframe tbody tr th:only-of-type {\n",
       "        vertical-align: middle;\n",
       "    }\n",
       "\n",
       "    .dataframe tbody tr th {\n",
       "        vertical-align: top;\n",
       "    }\n",
       "\n",
       "    .dataframe thead th {\n",
       "        text-align: right;\n",
       "    }\n",
       "</style>\n",
       "<table border=\"1\" class=\"dataframe\">\n",
       "  <thead>\n",
       "    <tr style=\"text-align: right;\">\n",
       "      <th></th>\n",
       "      <th>news</th>\n",
       "      <th>label</th>\n",
       "    </tr>\n",
       "  </thead>\n",
       "  <tbody>\n",
       "    <tr>\n",
       "      <th>0</th>\n",
       "      <td>[تحليل, السيسي, الرقم, الصعب, فى, مؤتمر, العشر...</td>\n",
       "      <td>0</td>\n",
       "    </tr>\n",
       "    <tr>\n",
       "      <th>1</th>\n",
       "      <td>[طالب, توجيهي, يكتشف, حبه, لمتابعة, النشرة, ال...</td>\n",
       "      <td>0</td>\n",
       "    </tr>\n",
       "    <tr>\n",
       "      <th>2</th>\n",
       "      <td>[عانس, تجد, عريسا, رغم, بلوغها, سن, الرابعة, و...</td>\n",
       "      <td>0</td>\n",
       "    </tr>\n",
       "    <tr>\n",
       "      <th>3</th>\n",
       "      <td>[التنمية, لم, نضبط, متسولين, بأول, أيام, رمضان...</td>\n",
       "      <td>0</td>\n",
       "    </tr>\n",
       "    <tr>\n",
       "      <th>4</th>\n",
       "      <td>[شاب, ينزعج, من, خبر, تفجير, رغم, وقوعه, كالمع...</td>\n",
       "      <td>0</td>\n",
       "    </tr>\n",
       "  </tbody>\n",
       "</table>\n",
       "</div>"
      ],
      "text/plain": [
       "                                                news  label\n",
       "0  [تحليل, السيسي, الرقم, الصعب, فى, مؤتمر, العشر...      0\n",
       "1  [طالب, توجيهي, يكتشف, حبه, لمتابعة, النشرة, ال...      0\n",
       "2  [عانس, تجد, عريسا, رغم, بلوغها, سن, الرابعة, و...      0\n",
       "3  [التنمية, لم, نضبط, متسولين, بأول, أيام, رمضان...      0\n",
       "4  [شاب, ينزعج, من, خبر, تفجير, رغم, وقوعه, كالمع...      0"
      ]
     },
     "execution_count": 8,
     "metadata": {},
     "output_type": "execute_result"
    }
   ],
   "source": [
    "def tokenize(txt):\n",
    "    tokens = nltk.word_tokenize(txt)\n",
    "    return tokens\n",
    "\n",
    "allDS.news = allDS.news.map(lambda x:tokenize(x))   \n",
    "len(allDS.news[0])\n",
    "allDS.head()\n"
   ]
  },
  {
   "cell_type": "code",
   "execution_count": 9,
   "id": "c9760a44",
   "metadata": {},
   "outputs": [
    {
     "data": {
      "text/html": [
       "<div>\n",
       "<style scoped>\n",
       "    .dataframe tbody tr th:only-of-type {\n",
       "        vertical-align: middle;\n",
       "    }\n",
       "\n",
       "    .dataframe tbody tr th {\n",
       "        vertical-align: top;\n",
       "    }\n",
       "\n",
       "    .dataframe thead th {\n",
       "        text-align: right;\n",
       "    }\n",
       "</style>\n",
       "<table border=\"1\" class=\"dataframe\">\n",
       "  <thead>\n",
       "    <tr style=\"text-align: right;\">\n",
       "      <th></th>\n",
       "      <th>news</th>\n",
       "      <th>label</th>\n",
       "    </tr>\n",
       "  </thead>\n",
       "  <tbody>\n",
       "    <tr>\n",
       "      <th>0</th>\n",
       "      <td>[تحليل, السيسي, الرقم, الصعب, مؤتمر, العشرين, ...</td>\n",
       "      <td>0</td>\n",
       "    </tr>\n",
       "    <tr>\n",
       "      <th>1</th>\n",
       "      <td>[طالب, توجيهي, يكتشف, حبه, لمتابعة, النشرة, ال...</td>\n",
       "      <td>0</td>\n",
       "    </tr>\n",
       "    <tr>\n",
       "      <th>2</th>\n",
       "      <td>[عانس, تجد, عريسا, رغم, بلوغها, سن, الرابعة, و...</td>\n",
       "      <td>0</td>\n",
       "    </tr>\n",
       "    <tr>\n",
       "      <th>3</th>\n",
       "      <td>[التنمية, نضبط, متسولين, بأول, أيام, رمضان, با...</td>\n",
       "      <td>0</td>\n",
       "    </tr>\n",
       "    <tr>\n",
       "      <th>4</th>\n",
       "      <td>[شاب, ينزعج, خبر, تفجير, رغم, وقوعه, كالمعتاد,...</td>\n",
       "      <td>0</td>\n",
       "    </tr>\n",
       "  </tbody>\n",
       "</table>\n",
       "</div>"
      ],
      "text/plain": [
       "                                                news  label\n",
       "0  [تحليل, السيسي, الرقم, الصعب, مؤتمر, العشرين, ...      0\n",
       "1  [طالب, توجيهي, يكتشف, حبه, لمتابعة, النشرة, ال...      0\n",
       "2  [عانس, تجد, عريسا, رغم, بلوغها, سن, الرابعة, و...      0\n",
       "3  [التنمية, نضبط, متسولين, بأول, أيام, رمضان, با...      0\n",
       "4  [شاب, ينزعج, خبر, تفجير, رغم, وقوعه, كالمعتاد,...      0"
      ]
     },
     "execution_count": 9,
     "metadata": {},
     "output_type": "execute_result"
    }
   ],
   "source": [
    "def removeStopWords(tokensList):\n",
    "    stopWordList = open(\"stopwords.txt\", encoding=\"utf-8\").read().splitlines()\n",
    "    SWCleanText = []\n",
    "    for token in tokensList:\n",
    "        if token not in stopWordList:\n",
    "            SWCleanText.append(token)\n",
    "    return SWCleanText\n",
    "\n",
    "allDS.news = allDS.news.map(lambda x:removeStopWords(x))\n",
    "\n",
    "# len(allDS.news[0])\n",
    "allDS.head()"
   ]
  },
  {
   "cell_type": "code",
   "execution_count": 10,
   "id": "0d4cbe9b",
   "metadata": {},
   "outputs": [
    {
     "data": {
      "text/html": [
       "<div>\n",
       "<style scoped>\n",
       "    .dataframe tbody tr th:only-of-type {\n",
       "        vertical-align: middle;\n",
       "    }\n",
       "\n",
       "    .dataframe tbody tr th {\n",
       "        vertical-align: top;\n",
       "    }\n",
       "\n",
       "    .dataframe thead th {\n",
       "        text-align: right;\n",
       "    }\n",
       "</style>\n",
       "<table border=\"1\" class=\"dataframe\">\n",
       "  <thead>\n",
       "    <tr style=\"text-align: right;\">\n",
       "      <th></th>\n",
       "      <th>news</th>\n",
       "      <th>label</th>\n",
       "    </tr>\n",
       "  </thead>\n",
       "  <tbody>\n",
       "    <tr>\n",
       "      <th>0</th>\n",
       "      <td>[تحليل, السيسي, الرقم, الصعب, مؤتمر, العشرين, ...</td>\n",
       "      <td>0</td>\n",
       "    </tr>\n",
       "    <tr>\n",
       "      <th>1</th>\n",
       "      <td>[طالب, توجيهي, يكتشف, حبه, لمتابعة, النشرة, ال...</td>\n",
       "      <td>0</td>\n",
       "    </tr>\n",
       "    <tr>\n",
       "      <th>2</th>\n",
       "      <td>[عانس, تجد, عريسا, رغم, بلوغها, سن, الرابعة, و...</td>\n",
       "      <td>0</td>\n",
       "    </tr>\n",
       "    <tr>\n",
       "      <th>3</th>\n",
       "      <td>[التنمية, نضبط, متسولين, بأول, أيام, رمضان, با...</td>\n",
       "      <td>0</td>\n",
       "    </tr>\n",
       "    <tr>\n",
       "      <th>4</th>\n",
       "      <td>[شاب, ينزعج, خبر, تفجير, رغم, وقوعه, كالمعتاد,...</td>\n",
       "      <td>0</td>\n",
       "    </tr>\n",
       "  </tbody>\n",
       "</table>\n",
       "</div>"
      ],
      "text/plain": [
       "                                                news  label\n",
       "0  [تحليل, السيسي, الرقم, الصعب, مؤتمر, العشرين, ...      0\n",
       "1  [طالب, توجيهي, يكتشف, حبه, لمتابعة, النشرة, ال...      0\n",
       "2  [عانس, تجد, عريسا, رغم, بلوغها, سن, الرابعة, و...      0\n",
       "3  [التنمية, نضبط, متسولين, بأول, أيام, رمضان, با...      0\n",
       "4  [شاب, ينزعج, خبر, تفجير, رغم, وقوعه, كالمعتاد,...      0"
      ]
     },
     "execution_count": 10,
     "metadata": {},
     "output_type": "execute_result"
    }
   ],
   "source": [
    "def punctuationsRemoving(txt):\n",
    "    result=[]\n",
    "    for word in txt: \n",
    "        if word not in punc:\n",
    "            result.append(word)     \n",
    "    return result\n",
    "    \n",
    "allDS.news = allDS.news.map(lambda x:punctuationsRemoving(x))\n",
    "\n",
    "# len(allDS.news[0])\n",
    "allDS.head()"
   ]
  },
  {
   "cell_type": "code",
   "execution_count": 11,
   "id": "8608194e",
   "metadata": {},
   "outputs": [
    {
     "data": {
      "text/html": [
       "<div>\n",
       "<style scoped>\n",
       "    .dataframe tbody tr th:only-of-type {\n",
       "        vertical-align: middle;\n",
       "    }\n",
       "\n",
       "    .dataframe tbody tr th {\n",
       "        vertical-align: top;\n",
       "    }\n",
       "\n",
       "    .dataframe thead th {\n",
       "        text-align: right;\n",
       "    }\n",
       "</style>\n",
       "<table border=\"1\" class=\"dataframe\">\n",
       "  <thead>\n",
       "    <tr style=\"text-align: right;\">\n",
       "      <th></th>\n",
       "      <th>news</th>\n",
       "      <th>label</th>\n",
       "    </tr>\n",
       "  </thead>\n",
       "  <tbody>\n",
       "    <tr>\n",
       "      <th>0</th>\n",
       "      <td>[حلل, سيس, رقم, صعب, ؤمر, عشر, ياب, ؤمر, عشر, ...</td>\n",
       "      <td>0</td>\n",
       "    </tr>\n",
       "    <tr>\n",
       "      <th>1</th>\n",
       "      <td>[طلب, وجه, كشف, حبه, تبع, نشر, قصد, ة, كشف, طل...</td>\n",
       "      <td>0</td>\n",
       "    </tr>\n",
       "    <tr>\n",
       "      <th>2</th>\n",
       "      <td>[عنس, تجد, عرس, رغم, بلغ, سن, ربع, عشر, نجح, ف...</td>\n",
       "      <td>0</td>\n",
       "    </tr>\n",
       "    <tr>\n",
       "      <th>3</th>\n",
       "      <td>[نمي, ضبط, تسل, بأل, ايم, رمض, باستثناء, علم, ...</td>\n",
       "      <td>0</td>\n",
       "    </tr>\n",
       "    <tr>\n",
       "      <th>4</th>\n",
       "      <td>[شاب, زعج, خبر, فجر, رغم, وقع, عتد, غدد, شعر, ...</td>\n",
       "      <td>0</td>\n",
       "    </tr>\n",
       "  </tbody>\n",
       "</table>\n",
       "</div>"
      ],
      "text/plain": [
       "                                                news  label\n",
       "0  [حلل, سيس, رقم, صعب, ؤمر, عشر, ياب, ؤمر, عشر, ...      0\n",
       "1  [طلب, وجه, كشف, حبه, تبع, نشر, قصد, ة, كشف, طل...      0\n",
       "2  [عنس, تجد, عرس, رغم, بلغ, سن, ربع, عشر, نجح, ف...      0\n",
       "3  [نمي, ضبط, تسل, بأل, ايم, رمض, باستثناء, علم, ...      0\n",
       "4  [شاب, زعج, خبر, فجر, رغم, وقع, عتد, غدد, شعر, ...      0"
      ]
     },
     "execution_count": 11,
     "metadata": {},
     "output_type": "execute_result"
    }
   ],
   "source": [
    "def ISRI_Stemmer(listOfWords):\n",
    "    st = nltk.ISRIStemmer()\n",
    "    stemedList = []\n",
    "    for word in listOfWords:\n",
    "        stemedList.append(st.stem(word))\n",
    "    return stemedList\n",
    "    \n",
    "allDS.news = allDS.news.map(lambda x:ISRI_Stemmer(x))\n",
    "allDS.head()"
   ]
  },
  {
   "cell_type": "markdown",
   "id": "357d7570",
   "metadata": {},
   "source": [
    "## Convert all news To String"
   ]
  },
  {
   "cell_type": "code",
   "execution_count": 12,
   "id": "cba64ad2",
   "metadata": {},
   "outputs": [],
   "source": [
    "def getAllAsParagraph(listOfLists):\n",
    "    lines = []\n",
    "    for wordList in listOfLists:\n",
    "        lines.append(' '.join(wordList))\n",
    "    return lines\n",
    "\n",
    "\n",
    "allText = getAllAsParagraph(allDS.news)\n",
    "# print(allText)"
   ]
  },
  {
   "cell_type": "markdown",
   "id": "27e378b4",
   "metadata": {},
   "source": [
    "# Feature extraction"
   ]
  },
  {
   "cell_type": "code",
   "execution_count": 13,
   "id": "1261c479",
   "metadata": {},
   "outputs": [],
   "source": [
    "#\n",
    "# Feature ex:\n",
    "#     1- Binary encoding\n",
    "#     2- Count Vectorizer\n",
    "#     3- TF-IDF\n",
    "    \n",
    "# Classificaion:\n",
    "#     1- Naive base\n",
    "#     2- RandomForest"
   ]
  },
  {
   "cell_type": "code",
   "execution_count": 14,
   "id": "9708f8d4",
   "metadata": {},
   "outputs": [],
   "source": [
    "from sklearn.feature_extraction.text import TfidfVectorizer\n",
    "from sklearn.model_selection import train_test_split"
   ]
  },
  {
   "cell_type": "code",
   "execution_count": 15,
   "id": "ea7c8bcf",
   "metadata": {},
   "outputs": [
    {
     "data": {
      "text/html": [
       "<div>\n",
       "<style scoped>\n",
       "    .dataframe tbody tr th:only-of-type {\n",
       "        vertical-align: middle;\n",
       "    }\n",
       "\n",
       "    .dataframe tbody tr th {\n",
       "        vertical-align: top;\n",
       "    }\n",
       "\n",
       "    .dataframe thead th {\n",
       "        text-align: right;\n",
       "    }\n",
       "</style>\n",
       "<table border=\"1\" class=\"dataframe\">\n",
       "  <thead>\n",
       "    <tr style=\"text-align: right;\">\n",
       "      <th></th>\n",
       "      <th>حلل</th>\n",
       "      <th>سيس</th>\n",
       "      <th>رقم</th>\n",
       "      <th>صعب</th>\n",
       "      <th>ؤمر</th>\n",
       "      <th>عشر</th>\n",
       "      <th>ياب</th>\n",
       "      <th>فرد</th>\n",
       "      <th>وكل</th>\n",
       "      <th>باء</th>\n",
       "      <th>...</th>\n",
       "      <th>روذ</th>\n",
       "      <th>فلخ</th>\n",
       "      <th>رفخشذ</th>\n",
       "      <th>قلقشند</th>\n",
       "      <th>طغا</th>\n",
       "      <th>رزب</th>\n",
       "      <th>هيغ</th>\n",
       "      <th>اليغييري</th>\n",
       "      <th>1308</th>\n",
       "      <th>1321</th>\n",
       "    </tr>\n",
       "  </thead>\n",
       "  <tbody>\n",
       "    <tr>\n",
       "      <th>0</th>\n",
       "      <td>0.0</td>\n",
       "      <td>0.0</td>\n",
       "      <td>0.0</td>\n",
       "      <td>0.0</td>\n",
       "      <td>0.0</td>\n",
       "      <td>0.0</td>\n",
       "      <td>0.0</td>\n",
       "      <td>0.0</td>\n",
       "      <td>0.0</td>\n",
       "      <td>0.0</td>\n",
       "      <td>...</td>\n",
       "      <td>0.0</td>\n",
       "      <td>0.0</td>\n",
       "      <td>0.0</td>\n",
       "      <td>0.0</td>\n",
       "      <td>0.0</td>\n",
       "      <td>0.0</td>\n",
       "      <td>0.0</td>\n",
       "      <td>0.0</td>\n",
       "      <td>0.0</td>\n",
       "      <td>0.0</td>\n",
       "    </tr>\n",
       "    <tr>\n",
       "      <th>1</th>\n",
       "      <td>0.0</td>\n",
       "      <td>0.0</td>\n",
       "      <td>0.0</td>\n",
       "      <td>0.0</td>\n",
       "      <td>0.0</td>\n",
       "      <td>0.0</td>\n",
       "      <td>0.0</td>\n",
       "      <td>0.0</td>\n",
       "      <td>0.0</td>\n",
       "      <td>0.0</td>\n",
       "      <td>...</td>\n",
       "      <td>0.0</td>\n",
       "      <td>0.0</td>\n",
       "      <td>0.0</td>\n",
       "      <td>0.0</td>\n",
       "      <td>0.0</td>\n",
       "      <td>0.0</td>\n",
       "      <td>0.0</td>\n",
       "      <td>0.0</td>\n",
       "      <td>0.0</td>\n",
       "      <td>0.0</td>\n",
       "    </tr>\n",
       "    <tr>\n",
       "      <th>2</th>\n",
       "      <td>0.0</td>\n",
       "      <td>0.0</td>\n",
       "      <td>0.0</td>\n",
       "      <td>0.0</td>\n",
       "      <td>0.0</td>\n",
       "      <td>0.0</td>\n",
       "      <td>0.0</td>\n",
       "      <td>0.0</td>\n",
       "      <td>0.0</td>\n",
       "      <td>0.0</td>\n",
       "      <td>...</td>\n",
       "      <td>0.0</td>\n",
       "      <td>0.0</td>\n",
       "      <td>0.0</td>\n",
       "      <td>0.0</td>\n",
       "      <td>0.0</td>\n",
       "      <td>0.0</td>\n",
       "      <td>0.0</td>\n",
       "      <td>0.0</td>\n",
       "      <td>0.0</td>\n",
       "      <td>0.0</td>\n",
       "    </tr>\n",
       "    <tr>\n",
       "      <th>3</th>\n",
       "      <td>0.0</td>\n",
       "      <td>0.0</td>\n",
       "      <td>0.0</td>\n",
       "      <td>0.0</td>\n",
       "      <td>0.0</td>\n",
       "      <td>0.0</td>\n",
       "      <td>0.0</td>\n",
       "      <td>0.0</td>\n",
       "      <td>0.0</td>\n",
       "      <td>0.0</td>\n",
       "      <td>...</td>\n",
       "      <td>0.0</td>\n",
       "      <td>0.0</td>\n",
       "      <td>0.0</td>\n",
       "      <td>0.0</td>\n",
       "      <td>0.0</td>\n",
       "      <td>0.0</td>\n",
       "      <td>0.0</td>\n",
       "      <td>0.0</td>\n",
       "      <td>0.0</td>\n",
       "      <td>0.0</td>\n",
       "    </tr>\n",
       "    <tr>\n",
       "      <th>4</th>\n",
       "      <td>0.0</td>\n",
       "      <td>0.0</td>\n",
       "      <td>0.0</td>\n",
       "      <td>0.0</td>\n",
       "      <td>0.0</td>\n",
       "      <td>0.0</td>\n",
       "      <td>0.0</td>\n",
       "      <td>0.0</td>\n",
       "      <td>0.0</td>\n",
       "      <td>0.0</td>\n",
       "      <td>...</td>\n",
       "      <td>0.0</td>\n",
       "      <td>0.0</td>\n",
       "      <td>0.0</td>\n",
       "      <td>0.0</td>\n",
       "      <td>0.0</td>\n",
       "      <td>0.0</td>\n",
       "      <td>0.0</td>\n",
       "      <td>0.0</td>\n",
       "      <td>0.0</td>\n",
       "      <td>0.0</td>\n",
       "    </tr>\n",
       "    <tr>\n",
       "      <th>...</th>\n",
       "      <td>...</td>\n",
       "      <td>...</td>\n",
       "      <td>...</td>\n",
       "      <td>...</td>\n",
       "      <td>...</td>\n",
       "      <td>...</td>\n",
       "      <td>...</td>\n",
       "      <td>...</td>\n",
       "      <td>...</td>\n",
       "      <td>...</td>\n",
       "      <td>...</td>\n",
       "      <td>...</td>\n",
       "      <td>...</td>\n",
       "      <td>...</td>\n",
       "      <td>...</td>\n",
       "      <td>...</td>\n",
       "      <td>...</td>\n",
       "      <td>...</td>\n",
       "      <td>...</td>\n",
       "      <td>...</td>\n",
       "      <td>...</td>\n",
       "    </tr>\n",
       "    <tr>\n",
       "      <th>9995</th>\n",
       "      <td>0.0</td>\n",
       "      <td>0.0</td>\n",
       "      <td>0.0</td>\n",
       "      <td>0.0</td>\n",
       "      <td>0.0</td>\n",
       "      <td>0.0</td>\n",
       "      <td>0.0</td>\n",
       "      <td>0.0</td>\n",
       "      <td>0.0</td>\n",
       "      <td>0.0</td>\n",
       "      <td>...</td>\n",
       "      <td>0.0</td>\n",
       "      <td>0.0</td>\n",
       "      <td>0.0</td>\n",
       "      <td>0.0</td>\n",
       "      <td>0.0</td>\n",
       "      <td>0.0</td>\n",
       "      <td>0.0</td>\n",
       "      <td>0.0</td>\n",
       "      <td>0.0</td>\n",
       "      <td>0.0</td>\n",
       "    </tr>\n",
       "    <tr>\n",
       "      <th>9996</th>\n",
       "      <td>0.0</td>\n",
       "      <td>0.0</td>\n",
       "      <td>0.0</td>\n",
       "      <td>0.0</td>\n",
       "      <td>0.0</td>\n",
       "      <td>0.0</td>\n",
       "      <td>0.0</td>\n",
       "      <td>0.0</td>\n",
       "      <td>0.0</td>\n",
       "      <td>0.0</td>\n",
       "      <td>...</td>\n",
       "      <td>0.0</td>\n",
       "      <td>0.0</td>\n",
       "      <td>0.0</td>\n",
       "      <td>0.0</td>\n",
       "      <td>0.0</td>\n",
       "      <td>0.0</td>\n",
       "      <td>0.0</td>\n",
       "      <td>0.0</td>\n",
       "      <td>0.0</td>\n",
       "      <td>0.0</td>\n",
       "    </tr>\n",
       "    <tr>\n",
       "      <th>9997</th>\n",
       "      <td>0.0</td>\n",
       "      <td>0.0</td>\n",
       "      <td>0.0</td>\n",
       "      <td>0.0</td>\n",
       "      <td>0.0</td>\n",
       "      <td>0.0</td>\n",
       "      <td>0.0</td>\n",
       "      <td>0.0</td>\n",
       "      <td>0.0</td>\n",
       "      <td>0.0</td>\n",
       "      <td>...</td>\n",
       "      <td>0.0</td>\n",
       "      <td>0.0</td>\n",
       "      <td>0.0</td>\n",
       "      <td>0.0</td>\n",
       "      <td>0.0</td>\n",
       "      <td>0.0</td>\n",
       "      <td>0.0</td>\n",
       "      <td>0.0</td>\n",
       "      <td>0.0</td>\n",
       "      <td>0.0</td>\n",
       "    </tr>\n",
       "    <tr>\n",
       "      <th>9998</th>\n",
       "      <td>0.0</td>\n",
       "      <td>0.0</td>\n",
       "      <td>0.0</td>\n",
       "      <td>0.0</td>\n",
       "      <td>0.0</td>\n",
       "      <td>0.0</td>\n",
       "      <td>0.0</td>\n",
       "      <td>0.0</td>\n",
       "      <td>0.0</td>\n",
       "      <td>0.0</td>\n",
       "      <td>...</td>\n",
       "      <td>0.0</td>\n",
       "      <td>0.0</td>\n",
       "      <td>0.0</td>\n",
       "      <td>0.0</td>\n",
       "      <td>0.0</td>\n",
       "      <td>0.0</td>\n",
       "      <td>0.0</td>\n",
       "      <td>0.0</td>\n",
       "      <td>0.0</td>\n",
       "      <td>0.0</td>\n",
       "    </tr>\n",
       "    <tr>\n",
       "      <th>9999</th>\n",
       "      <td>0.0</td>\n",
       "      <td>0.0</td>\n",
       "      <td>0.0</td>\n",
       "      <td>0.0</td>\n",
       "      <td>0.0</td>\n",
       "      <td>0.0</td>\n",
       "      <td>0.0</td>\n",
       "      <td>0.0</td>\n",
       "      <td>0.0</td>\n",
       "      <td>0.0</td>\n",
       "      <td>...</td>\n",
       "      <td>0.0</td>\n",
       "      <td>0.0</td>\n",
       "      <td>0.0</td>\n",
       "      <td>0.0</td>\n",
       "      <td>0.0</td>\n",
       "      <td>0.0</td>\n",
       "      <td>0.0</td>\n",
       "      <td>0.0</td>\n",
       "      <td>0.0</td>\n",
       "      <td>0.0</td>\n",
       "    </tr>\n",
       "  </tbody>\n",
       "</table>\n",
       "<p>10000 rows × 29397 columns</p>\n",
       "</div>"
      ],
      "text/plain": [
       "      حلل  سيس  رقم  صعب  ؤمر  عشر  ياب  فرد  وكل  باء  ...  روذ  فلخ  رفخشذ  \\\n",
       "0     0.0  0.0  0.0  0.0  0.0  0.0  0.0  0.0  0.0  0.0  ...  0.0  0.0    0.0   \n",
       "1     0.0  0.0  0.0  0.0  0.0  0.0  0.0  0.0  0.0  0.0  ...  0.0  0.0    0.0   \n",
       "2     0.0  0.0  0.0  0.0  0.0  0.0  0.0  0.0  0.0  0.0  ...  0.0  0.0    0.0   \n",
       "3     0.0  0.0  0.0  0.0  0.0  0.0  0.0  0.0  0.0  0.0  ...  0.0  0.0    0.0   \n",
       "4     0.0  0.0  0.0  0.0  0.0  0.0  0.0  0.0  0.0  0.0  ...  0.0  0.0    0.0   \n",
       "...   ...  ...  ...  ...  ...  ...  ...  ...  ...  ...  ...  ...  ...    ...   \n",
       "9995  0.0  0.0  0.0  0.0  0.0  0.0  0.0  0.0  0.0  0.0  ...  0.0  0.0    0.0   \n",
       "9996  0.0  0.0  0.0  0.0  0.0  0.0  0.0  0.0  0.0  0.0  ...  0.0  0.0    0.0   \n",
       "9997  0.0  0.0  0.0  0.0  0.0  0.0  0.0  0.0  0.0  0.0  ...  0.0  0.0    0.0   \n",
       "9998  0.0  0.0  0.0  0.0  0.0  0.0  0.0  0.0  0.0  0.0  ...  0.0  0.0    0.0   \n",
       "9999  0.0  0.0  0.0  0.0  0.0  0.0  0.0  0.0  0.0  0.0  ...  0.0  0.0    0.0   \n",
       "\n",
       "      قلقشند  طغا  رزب  هيغ  اليغييري  1308  1321  \n",
       "0        0.0  0.0  0.0  0.0       0.0   0.0   0.0  \n",
       "1        0.0  0.0  0.0  0.0       0.0   0.0   0.0  \n",
       "2        0.0  0.0  0.0  0.0       0.0   0.0   0.0  \n",
       "3        0.0  0.0  0.0  0.0       0.0   0.0   0.0  \n",
       "4        0.0  0.0  0.0  0.0       0.0   0.0   0.0  \n",
       "...      ...  ...  ...  ...       ...   ...   ...  \n",
       "9995     0.0  0.0  0.0  0.0       0.0   0.0   0.0  \n",
       "9996     0.0  0.0  0.0  0.0       0.0   0.0   0.0  \n",
       "9997     0.0  0.0  0.0  0.0       0.0   0.0   0.0  \n",
       "9998     0.0  0.0  0.0  0.0       0.0   0.0   0.0  \n",
       "9999     0.0  0.0  0.0  0.0       0.0   0.0   0.0  \n",
       "\n",
       "[10000 rows x 29397 columns]"
      ]
     },
     "execution_count": 15,
     "metadata": {},
     "output_type": "execute_result"
    }
   ],
   "source": [
    "tfidf_vec=TfidfVectorizer()\n",
    "tfidf_vec.fit(allText)\n",
    "\n",
    "tfidf_vec=TfidfVectorizer()\n",
    "tfidf_vec.fit(allText)\n",
    "labels = [x for x in (tfidf_vec.vocabulary_.keys())]\n",
    "tfidf_trans = tfidf_vec.transform(allText).toarray()\n",
    "\n",
    "pd.DataFrame(tfidf_trans, columns = labels)"
   ]
  },
  {
   "cell_type": "markdown",
   "id": "a24a6c4c",
   "metadata": {},
   "source": [
    "# Split to text and train data"
   ]
  },
  {
   "cell_type": "code",
   "execution_count": 16,
   "id": "6e43b9ad",
   "metadata": {},
   "outputs": [],
   "source": [
    "x_train,x_test,y_train,y_test= train_test_split(tfidf_trans,allDS['label'] , test_size=0.2)"
   ]
  },
  {
   "cell_type": "code",
   "execution_count": 17,
   "id": "e8ec9925",
   "metadata": {},
   "outputs": [
    {
     "name": "stdout",
     "output_type": "stream",
     "text": [
      "(8000, 29397)\n",
      "(2000, 29397)\n"
     ]
    }
   ],
   "source": [
    "print(x_train.shape)\n",
    "print(x_test.shape)"
   ]
  },
  {
   "cell_type": "markdown",
   "id": "db51cd49",
   "metadata": {},
   "source": [
    "# Naive bayes with TF-IDF"
   ]
  },
  {
   "cell_type": "code",
   "execution_count": 18,
   "id": "c28799c9",
   "metadata": {},
   "outputs": [],
   "source": [
    "from sklearn.naive_bayes import MultinomialNB\n",
    "tfidf_model=MultinomialNB()\n",
    "tfidf_model.fit(x_train,y_train)\n",
    "tfidf_predected=tfidf_model.predict(x_test)"
   ]
  },
  {
   "cell_type": "markdown",
   "id": "ba9cb13f",
   "metadata": {},
   "source": [
    "# Accurcy"
   ]
  },
  {
   "cell_type": "code",
   "execution_count": 19,
   "id": "6b5b26af",
   "metadata": {},
   "outputs": [
    {
     "name": "stdout",
     "output_type": "stream",
     "text": [
      "0.906\n",
      "0.906\n",
      "[[879 173]\n",
      " [ 15 933]]\n"
     ]
    }
   ],
   "source": [
    "import numpy as np\n",
    "from sklearn.metrics import accuracy_score\n",
    "from sklearn.metrics import confusion_matrix\n",
    "\n",
    "\n",
    "print(np.mean(tfidf_predected==y_test))\n",
    "tf_idf_accurcy = accuracy_score(y_test,tfidf_predected)\n",
    "print(tf_idf_accurcy)\n",
    "print(confusion_matrix(y_test,tfidf_predected))"
   ]
  },
  {
   "cell_type": "code",
   "execution_count": null,
   "id": "08c6abed",
   "metadata": {},
   "outputs": [],
   "source": []
  },
  {
   "cell_type": "markdown",
   "id": "786de39e",
   "metadata": {},
   "source": [
    "# Naive bayes with CountVectorizer"
   ]
  },
  {
   "cell_type": "code",
   "execution_count": 20,
   "id": "72440f66",
   "metadata": {},
   "outputs": [],
   "source": [
    "from sklearn.feature_extraction.text import CountVectorizer\n"
   ]
  },
  {
   "cell_type": "code",
   "execution_count": 21,
   "id": "bbe5a5c8",
   "metadata": {},
   "outputs": [],
   "source": [
    "count_vec = CountVectorizer()\n",
    "count_features=count_vec.fit_transform(allText)\n",
    "x_train,x_test,y_train,y_test=train_test_split(count_features,allDS['label'],test_size=0.2)\n",
    "\n",
    "count_model=MultinomialNB()\n",
    "count_model.fit(x_train,y_train)\n",
    "count_predicted=count_model.predict(x_test)"
   ]
  },
  {
   "cell_type": "markdown",
   "id": "7540c042",
   "metadata": {},
   "source": [
    "# Accurcy"
   ]
  },
  {
   "cell_type": "code",
   "execution_count": 22,
   "id": "78465bf5",
   "metadata": {},
   "outputs": [
    {
     "name": "stdout",
     "output_type": "stream",
     "text": [
      "0.9125\n",
      "0.9125\n",
      "[[858 145]\n",
      " [ 30 967]]\n"
     ]
    }
   ],
   "source": [
    "print(np.mean(count_predicted==y_test))\n",
    "count_vec_accurcy = accuracy_score(y_test,count_predicted)\n",
    "print(count_vec_accurcy)\n",
    "print(confusion_matrix(y_test,count_predicted))"
   ]
  },
  {
   "cell_type": "code",
   "execution_count": null,
   "id": "371977e5",
   "metadata": {},
   "outputs": [],
   "source": []
  },
  {
   "cell_type": "markdown",
   "id": "e7595a17",
   "metadata": {},
   "source": [
    "# Naive bayes with Binary Encoding"
   ]
  },
  {
   "cell_type": "code",
   "execution_count": 23,
   "id": "58d92f92",
   "metadata": {},
   "outputs": [],
   "source": [
    "binary_vec=CountVectorizer(binary=True)\n",
    "binary_features=binary_vec.fit_transform(allText)\n",
    "count_predicted=count_model.predict(x_test)\n",
    "\n",
    "binary_model=MultinomialNB()\n",
    "binary_model.fit(x_train,y_train)\n",
    "\n",
    "binary_predicted=binary_model.predict(x_test)"
   ]
  },
  {
   "cell_type": "code",
   "execution_count": 24,
   "id": "84b1dcb4",
   "metadata": {},
   "outputs": [
    {
     "name": "stdout",
     "output_type": "stream",
     "text": [
      "0.9125\n",
      "0.9125\n",
      "[[858  30]\n",
      " [145 967]]\n"
     ]
    }
   ],
   "source": [
    "\n",
    "print(np.mean(binary_predicted==y_test))\n",
    "binary_accurcy = accuracy_score(y_test,binary_predicted)\n",
    "print(binary_accurcy)\n",
    "print(confusion_matrix(binary_predicted,y_test))"
   ]
  },
  {
   "cell_type": "code",
   "execution_count": null,
   "id": "5767f294",
   "metadata": {},
   "outputs": [],
   "source": []
  },
  {
   "cell_type": "code",
   "execution_count": null,
   "id": "d8845ea9",
   "metadata": {},
   "outputs": [],
   "source": []
  },
  {
   "cell_type": "code",
   "execution_count": null,
   "id": "c87ab223",
   "metadata": {},
   "outputs": [],
   "source": []
  },
  {
   "cell_type": "code",
   "execution_count": null,
   "id": "71bd4cf3",
   "metadata": {},
   "outputs": [],
   "source": []
  },
  {
   "cell_type": "code",
   "execution_count": null,
   "id": "229a8f9c",
   "metadata": {},
   "outputs": [],
   "source": []
  },
  {
   "cell_type": "markdown",
   "id": "347d35c0",
   "metadata": {},
   "source": [
    "# Comparision Chart"
   ]
  },
  {
   "cell_type": "code",
   "execution_count": 25,
   "id": "acd49988",
   "metadata": {},
   "outputs": [
    {
     "data": {
      "image/png": "[encoded data removed]",
      "text/plain": [
       "<Figure size 432x288 with 1 Axes>"
      ]
     },
     "metadata": {
      "needs_background": "light"
     },
     "output_type": "display_data"
    }
   ],
   "source": [
    "# libraries\n",
    "import numpy as np\n",
    "import matplotlib.pyplot as plt\n",
    " \n",
    "# create a dataset\n",
    "height = [binary_accurcy, count_vec_accurcy, tf_idf_accurcy]\n",
    "bars = ('Binary', 'Count vectorizor', 'TF-IDF')\n",
    "x_pos = np.arange(len(bars))\n",
    "\n",
    "\n",
    "# Create bars\n",
    "plt.bar(x_pos, height, color = ['red', 'green','blue'])\n",
    "\n",
    "# Create names on the x-axis\n",
    "plt.xticks(x_pos, bars)\n",
    "\n",
    "# Show graph\n",
    "plt.show()"
   ]
  },
  {
   "cell_type": "code",
   "execution_count": null,
   "id": "48caf478",
   "metadata": {},
   "outputs": [],
   "source": []
  },
  {
   "cell_type": "code",
   "execution_count": null,
   "id": "e1f5182b",
   "metadata": {},
   "outputs": [],
   "source": []
  },
  {
   "cell_type": "code",
   "execution_count": 26,
   "id": "0bab1ca0",
   "metadata": {},
   "outputs": [],
   "source": [
    "# from sklearn.ensemble import RandomForestClassifier\n",
    "# from sklearn.metrics import accuracy_score\n",
    "# rf = RandomForestClassifier()\n",
    "# rf.fit(x_train,y_train)\n",
    "# y_pred = rf.predict(x_test)\n",
    "\n",
    "# print(np.mean(y_pred==y_test))\n",
    "# print(accuracy_score(y_test,y_pred))\n",
    "# print(confusion_matrix(y_test,y_pred))"
   ]
  },
  {
   "cell_type": "code",
   "execution_count": null,
   "id": "93fbb1de",
   "metadata": {},
   "outputs": [],
   "source": []
  },
  {
   "cell_type": "code",
   "execution_count": null,
   "id": "3b5d41c1",
   "metadata": {},
   "outputs": [],
   "source": []
  }
 ],
 "metadata": {
  "kernelspec": {
   "display_name": "Python 3",
   "language": "python",
   "name": "python3"
  },
  "language_info": {
   "codemirror_mode": {
    "name": "ipython",
    "version": 3
   },
   "file_extension": ".py",
   "mimetype": "text/x-python",
   "name": "python",
   "nbconvert_exporter": "python",
   "pygments_lexer": "ipython3",
   "version": "3.8.8"
  }
 },
 "nbformat": 4,
 "nbformat_minor": 5
}
